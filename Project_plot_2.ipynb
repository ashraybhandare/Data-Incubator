{
 "cells": [
  {
   "cell_type": "code",
   "execution_count": 1,
   "metadata": {},
   "outputs": [],
   "source": [
    "import pandas as pd\n",
    "import matplotlib.pyplot as plt"
   ]
  },
  {
   "cell_type": "code",
   "execution_count": 2,
   "metadata": {},
   "outputs": [],
   "source": [
    "df1 = pd.read_csv('mtbs_fod_pts_20170501.csv')"
   ]
  },
  {
   "cell_type": "code",
   "execution_count": 3,
   "metadata": {},
   "outputs": [
    {
     "data": {
      "text/plain": [
       "STATE      FIRE_YEAR\n",
       "Alabama    1985.0        4\n",
       "           1987.0        3\n",
       "           1993.0        2\n",
       "           1994.0        3\n",
       "           1995.0        2\n",
       "           1996.0       10\n",
       "           1998.0        2\n",
       "           1999.0        4\n",
       "           2000.0        7\n",
       "           2001.0        2\n",
       "           2002.0        3\n",
       "           2004.0        6\n",
       "           2005.0       48\n",
       "           2006.0       32\n",
       "           2007.0        8\n",
       "           2008.0        9\n",
       "           2009.0        3\n",
       "           2010.0       24\n",
       "           2011.0       10\n",
       "           2012.0        1\n",
       "           2013.0       26\n",
       "           2014.0       52\n",
       "           2015.0       50\n",
       "Alaska     1984.0       15\n",
       "           1985.0       21\n",
       "           1986.0       33\n",
       "           1987.0       11\n",
       "           1988.0       18\n",
       "           1989.0        4\n",
       "           1990.0       43\n",
       "                        ..\n",
       "Wisconsin  2015.0        2\n",
       "Wyoming    1985.0        5\n",
       "           1986.0        1\n",
       "           1987.0        1\n",
       "           1988.0       20\n",
       "           1989.0        1\n",
       "           1991.0        4\n",
       "           1992.0        2\n",
       "           1993.0        1\n",
       "           1994.0        8\n",
       "           1996.0       30\n",
       "           1997.0        6\n",
       "           1998.0        2\n",
       "           1999.0       14\n",
       "           2000.0       35\n",
       "           2001.0       14\n",
       "           2002.0       17\n",
       "           2003.0       12\n",
       "           2004.0        2\n",
       "           2005.0        7\n",
       "           2006.0       31\n",
       "           2007.0       20\n",
       "           2008.0        5\n",
       "           2009.0       10\n",
       "           2010.0       17\n",
       "           2011.0       21\n",
       "           2012.0       31\n",
       "           2013.0        7\n",
       "           2014.0        2\n",
       "           2015.0        8\n",
       "Name: FIRE_ID, Length: 1010, dtype: int64"
      ]
     },
     "execution_count": 3,
     "metadata": {},
     "output_type": "execute_result"
    }
   ],
   "source": [
    "df1.groupby( [ \"STATE\",\"FIRE_YEAR\"] )[\"FIRE_ID\"].count()"
   ]
  },
  {
   "cell_type": "code",
   "execution_count": 4,
   "metadata": {},
   "outputs": [],
   "source": [
    "x = df1.groupby('STATE')\n",
    "cal = x.get_group('California')\n",
    "y = cal.groupby('Fire_Type')\n",
    "year_data = pd.concat([y.get_group('WF'), y.get_group('WFU')])"
   ]
  },
  {
   "cell_type": "code",
   "execution_count": 5,
   "metadata": {},
   "outputs": [
    {
     "data": {
      "image/png": "[encoded data removed]",
      "text/plain": [
       "<Figure size 432x288 with 1 Axes>"
      ]
     },
     "metadata": {},
     "output_type": "display_data"
    }
   ],
   "source": [
    "plot_data = year_data.groupby('FIRE_YEAR')[\"FIRE_ID\"].count()\n",
    "plot_data = plot_data.reset_index()\n",
    "\n",
    "plt.bar(plot_data.FIRE_YEAR,plot_data.FIRE_ID)\n",
    "\n",
    "plt.xlabel('Year')\n",
    "plt.ylabel('Fire count')\n",
    "\n",
    "plt.title('Yearly Fires')\n",
    "\n",
    "plt.show()"
   ]
  },
  {
   "cell_type": "code",
   "execution_count": 6,
   "metadata": {},
   "outputs": [
    {
     "data": {
      "text/plain": [
       "FIRE_YEAR  FIRE_MON\n",
       "1984.0     3.0          1\n",
       "           4.0          1\n",
       "           5.0         12\n",
       "           6.0          5\n",
       "           7.0          6\n",
       "           8.0          8\n",
       "           9.0          2\n",
       "           10.0         3\n",
       "1985.0     5.0          4\n",
       "           6.0         11\n",
       "           7.0         25\n",
       "           8.0          6\n",
       "           9.0          3\n",
       "           10.0         8\n",
       "1986.0     4.0          1\n",
       "           5.0          4\n",
       "           6.0          2\n",
       "           7.0          9\n",
       "           8.0          3\n",
       "           9.0          3\n",
       "           10.0         1\n",
       "           11.0         3\n",
       "1987.0     4.0          1\n",
       "           5.0          7\n",
       "           6.0          7\n",
       "           7.0          4\n",
       "           8.0         50\n",
       "           9.0         10\n",
       "           10.0         4\n",
       "           11.0         1\n",
       "                       ..\n",
       "2011.0     7.0          4\n",
       "           8.0          5\n",
       "           9.0          9\n",
       "           10.0         1\n",
       "2012.0     5.0          2\n",
       "           6.0          5\n",
       "           7.0         10\n",
       "           8.0         20\n",
       "           9.0          6\n",
       "2013.0     5.0          8\n",
       "           6.0          2\n",
       "           7.0          6\n",
       "           8.0          9\n",
       "           9.0          2\n",
       "           10.0         1\n",
       "           11.0         1\n",
       "2014.0     1.0          1\n",
       "           4.0          1\n",
       "           5.0          5\n",
       "           6.0          2\n",
       "           7.0         17\n",
       "           8.0          5\n",
       "           9.0          2\n",
       "2015.0     2.0          1\n",
       "           4.0          3\n",
       "           6.0          6\n",
       "           7.0         16\n",
       "           8.0         14\n",
       "           9.0          4\n",
       "           12.0         1\n",
       "Name: FIRE_ID, Length: 218, dtype: int64"
      ]
     },
     "execution_count": 6,
     "metadata": {},
     "output_type": "execute_result"
    }
   ],
   "source": [
    "year_data.groupby( [\"FIRE_YEAR\",\"FIRE_MON\"] )[\"FIRE_ID\"].count()"
   ]
  },
  {
   "cell_type": "code",
   "execution_count": 7,
   "metadata": {},
   "outputs": [
    {
     "data": {
      "image/png": "[encoded data removed]",
      "text/plain": [
       "<Figure size 432x288 with 1 Axes>"
      ]
     },
     "metadata": {},
     "output_type": "display_data"
    }
   ],
   "source": [
    "import matplotlib.pyplot as plt\n",
    "\n",
    "for i in range(1984,2016):\n",
    "    s = year_data.groupby('FIRE_YEAR').get_group(i).groupby('FIRE_MON')[\"FIRE_ID\"].count()\n",
    "    s = s.reset_index()\n",
    "    plt.bar(s.FIRE_MON,s.FIRE_ID, label=i)\n",
    "\n",
    "#s = year_data.groupby('FIRE_YEAR').get_group(2014).groupby('FIRE_MON')[\"FIRE_ID\"].count()\n",
    "#s = s.reset_index()\n",
    "#plt.bar(s.FIRE_MON,s.FIRE_ID, label=\"Example 2\")\n",
    "\n",
    "plt.legend(bbox_to_anchor=(1.04,1), loc=\"upper left\")\n",
    "plt.xlabel('Month')\n",
    "plt.ylabel('Fire Count')\n",
    "\n",
    "plt.title('Analysis of monthly fires from 1984- 2015')\n",
    "\n",
    "plt.show()"
   ]
  },
  {
   "cell_type": "code",
   "execution_count": null,
   "metadata": {},
   "outputs": [],
   "source": []
  }
 ],
 "metadata": {
  "kernelspec": {
   "display_name": "Python (NLTP_env)",
   "language": "python",
   "name": "myenv"
  },
  "language_info": {
   "codemirror_mode": {
    "name": "ipython",
    "version": 2
   },
   "file_extension": ".py",
   "mimetype": "text/x-python",
   "name": "python",
   "nbconvert_exporter": "python",
   "pygments_lexer": "ipython2",
   "version": "2.7.14"
  }
 },
 "nbformat": 4,
 "nbformat_minor": 2
}
